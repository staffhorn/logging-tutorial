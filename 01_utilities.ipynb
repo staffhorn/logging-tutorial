{
 "cells": [
  {
   "cell_type": "code",
   "execution_count": null,
   "id": "4547efd7",
   "metadata": {},
   "outputs": [],
   "source": [
    "#| default_exp utilities"
   ]
  },
  {
   "cell_type": "code",
   "execution_count": null,
   "id": "4e64f54d",
   "metadata": {},
   "outputs": [],
   "source": [
    "#|hide\n",
    "from nbdev.showdoc import *"
   ]
  },
  {
   "cell_type": "markdown",
   "id": "07c618b8",
   "metadata": {},
   "source": [
    "### logging-tutorial utilites\n",
    "Some handy classes and functions we'll use in the tutorial to make life easier."
   ]
  },
  {
   "cell_type": "code",
   "execution_count": null,
   "id": "cfb3f226",
   "metadata": {},
   "outputs": [],
   "source": [
    "#! export\n",
    "def hash_password():\n",
    "    import getpass\n",
    "    import bcrypt\n",
    "\n",
    "    hashed_password = bcrypt.hashpw(\n",
    "        getpass.getpass(\"password: \").encode(\"utf-8\"), bcrypt.gensalt()).decode()"
   ]
  }
 ],
 "metadata": {
  "kernelspec": {
   "display_name": "Python [conda env:nbdev]",
   "language": "python",
   "name": "conda-env-nbdev-py"
  }
 },
 "nbformat": 4,
 "nbformat_minor": 5
}
