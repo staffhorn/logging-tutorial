{
 "cells": [
  {
   "cell_type": "code",
   "execution_count": null,
   "id": "4547efd7",
   "metadata": {},
   "outputs": [],
   "source": [
    "#| default_exp utilities"
   ]
  },
  {
   "cell_type": "code",
   "execution_count": null,
   "id": "4e64f54d",
   "metadata": {},
   "outputs": [],
   "source": [
    "#|hide\n",
    "from nbdev.showdoc import *"
   ]
  },
  {
   "cell_type": "markdown",
   "id": "07c618b8",
   "metadata": {},
   "source": [
    "### logging-tutorial utilites\n",
    "Some handy classes and functions we'll use in the tutorial to make life easier."
   ]
  },
  {
   "cell_type": "code",
   "execution_count": null,
   "id": "cfb3f226",
   "metadata": {},
   "outputs": [],
   "source": [
    "#! export\n",
    "def hash_password():\n",
    "    import getpass\n",
    "    import bcrypt\n",
    "\n",
    "    hashed_password = bcrypt.hashpw(\n",
    "        getpass.getpass(\"password: \").encode(\"utf-8\"), bcrypt.gensalt()).decode()\n",
    "    print(hashed_password)"
   ]
  },
  {
   "cell_type": "code",
   "execution_count": null,
   "id": "caecede8",
   "metadata": {},
   "outputs": [
    {
     "name": "stdout",
     "output_type": "stream",
     "text": [
      "password: ········\n"
     ]
    },
    {
     "data": {
      "text/plain": [
       "'$2b$12$T4LWSfgzrbgxnnFeBh.onuoBKBdEUmOJaTIionxAKuoiIyNN9SdsO'"
      ]
     },
     "execution_count": null,
     "metadata": {},
     "output_type": "execute_result"
    }
   ],
   "source": [
    "hash_password()"
   ]
  },
  {
   "cell_type": "code",
   "execution_count": null,
   "id": "ed423a07",
   "metadata": {},
   "outputs": [],
   "source": [
    "#| export\n",
    "import logging\n",
    "SIMPLE_FORMAT = logging.Formatter('\"%(message)s\"')\n",
    "BETTER_FORMAT = logging.Formatter('\"%(asctime)s\",%(name)s,%(funcName)s,line %(lineno)d,%(levelname)s,\"%(message)s\"')\n",
    "\n",
    "class SimpleFileHandler(logging.FileHandler):\n",
    "    '''\n",
    "    a simple FileHandler class that uses some good defaults for the example module\n",
    "    '''\n",
    "    \n",
    "    def __init__(self, filename='logs/example.log', **kwargs):\n",
    "        # if filename is in kwargs use it, otherwise give it FILENAME\n",
    "        super().__init__(filename=filename, **kwargs)\n",
    "        self.setLevel(logging.INFO)\n",
    "        self.setFormatter(fmt=BETTER_FORMAT)"
   ]
  },
  {
   "cell_type": "code",
   "execution_count": null,
   "id": "71530974",
   "metadata": {},
   "outputs": [],
   "source": [
    "#| export\n",
    "class SimpleScreenHandler(logging.StreamHandler):\n",
    "    import sys\n",
    "    def __init__(self,stream=sys.stdout,**kwargs):\n",
    "        super().__init__(stream, **kwargs)\n",
    "        self.setLevel(logging.DEBUG)\n",
    "        self.setFormatter(SIMPLE_FORMAT)"
   ]
  }
 ],
 "metadata": {
  "kernelspec": {
   "display_name": "Python [conda env:nbdev]",
   "language": "python",
   "name": "conda-env-nbdev-py"
  }
 },
 "nbformat": 4,
 "nbformat_minor": 5
}
