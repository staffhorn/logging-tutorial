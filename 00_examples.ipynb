{
 "cells": [
  {
   "cell_type": "code",
   "execution_count": null,
   "metadata": {},
   "outputs": [],
   "source": [
    "#| default_exp examples"
   ]
  },
  {
   "cell_type": "markdown",
   "metadata": {},
   "source": [
    "# examples\n",
    "\n",
    "> Logging example functions."
   ]
  },
  {
   "cell_type": "code",
   "execution_count": null,
   "metadata": {},
   "outputs": [],
   "source": [
    "#|hide\n",
    "from nbdev.showdoc import *\n"
   ]
  },
  {
   "cell_type": "code",
   "execution_count": null,
   "metadata": {},
   "outputs": [],
   "source": [
    "#|export\n",
    "import logging\n",
    "from logging.handlers import SMTPHandler\n",
    "import os\n",
    "import sys\n",
    "\n",
    "'''\n",
    "Some module level setup\n",
    "'''\n",
    "\n",
    "SIMPLE_FORMAT = logging.Formatter('\"%(message)s\"')\n",
    "BETTER_FORMAT = logging.Formatter('\"%(asctime)s\",%(name)s,%(funcName)s,line %(lineno)d,%(levelname)s,\"%(message)s\"')\n",
    "logging.basicConfig(level=\"DEBUG\")\n"
   ]
  },
  {
   "cell_type": "code",
   "execution_count": null,
   "metadata": {},
   "outputs": [],
   "source": [
    "#|export\n",
    "def example_01() -> None:\n",
    "    '''\n",
    "    Example 01\n",
    "    Print debugging to the screen using print()\n",
    "    '''\n",
    "    print('This debug message uses print.')\n",
    "\n"
   ]
  },
  {
   "cell_type": "code",
   "execution_count": null,
   "metadata": {},
   "outputs": [
    {
     "name": "stdout",
     "output_type": "stream",
     "text": [
      "This debug message uses print.\n"
     ]
    }
   ],
   "source": [
    "example_01()"
   ]
  },
  {
   "cell_type": "markdown",
   "metadata": {},
   "source": [
    "### Use logging instead of print\n",
    "The next example uses logging instead of print(). \n",
    "Note that this is almost as simple as print().  In the following examples, we'll see why logging is better than print!"
   ]
  },
  {
   "cell_type": "code",
   "execution_count": null,
   "metadata": {},
   "outputs": [],
   "source": [
    "#|export\n",
    "\n",
    "def example_02() -> None:\n",
    "    '''\n",
    "    Example 02\n",
    "    Log to the screen instead of print.\n",
    "\n",
    "    '''\n",
    "    \n",
    "    logging.debug('This debug message uses the root logger.')"
   ]
  },
  {
   "cell_type": "code",
   "execution_count": null,
   "metadata": {},
   "outputs": [
    {
     "name": "stderr",
     "output_type": "stream",
     "text": [
      "DEBUG:root:This debug message uses the root logger.\n"
     ]
    }
   ],
   "source": [
    "example_02()"
   ]
  },
  {
   "cell_type": "markdown",
   "metadata": {},
   "source": [
    "We can get the root logger from anywhere in our application with logging.getLogger()\n",
    "We already configured the root logger in example_02, but we can modify its behavior here.\n",
    "This illustrates two handy things about logging:\n",
    "\n",
    "- logging provides access to the loggers from anywhere, so the developer does not have to search the code.\n",
    "- We can change the level of messages to suppress debug messages."
   ]
  },
  {
   "cell_type": "code",
   "execution_count": null,
   "metadata": {},
   "outputs": [],
   "source": [
    "#|export\n",
    "def example_03() -> None:\n",
    "    '''\n",
    "    Example 03\n",
    "    Add formatting.\n",
    "    '''\n",
    "    \n",
    "    logging.getLogger().handlers[0].setFormatter(BETTER_FORMAT)\n",
    "    \n",
    "    logging.info('This better format adds context information to each message.')\n",
    "    \n"
   ]
  },
  {
   "cell_type": "code",
   "execution_count": null,
   "metadata": {},
   "outputs": [
    {
     "name": "stderr",
     "output_type": "stream",
     "text": [
      "\"2022-09-01 02:19:20,620\",root,example_03,line 10,INFO,\"This better format adds context information to each message.\"\n"
     ]
    }
   ],
   "source": [
    "example_03()"
   ]
  },
  {
   "cell_type": "code",
   "execution_count": null,
   "metadata": {},
   "outputs": [],
   "source": [
    "#|export\n",
    "\n",
    "def example_04() -> None:\n",
    "    '''\n",
    "    Example 04\n",
    "    Use a named logger that has unique properties from the root logger.\n",
    "    '''\n",
    "\n",
    "    # Let's create a custom logger, my_logger.\n",
    "    my_logger = logging.getLogger(__name__)\n",
    "    my_logger.setLevel(logging.DEBUG)\n",
    "    logging.info('This INFO message will display.')\n",
    "    logging.debug('We will not see this because DEBUG is lower than the root level INFO.')\n",
    "\n",
    "    my_logger = logging.getLogger(__name__)\n",
    "    my_logger.debug('The __main__ logger is set to a level of DEBUG, so this message displays.')\n",
    "    my_logger.info('Note the __main__ logger uses the format from root.')\n",
    "    my_logger.handlers = []\n",
    "\n"
   ]
  },
  {
   "cell_type": "code",
   "execution_count": null,
   "metadata": {},
   "outputs": [
    {
     "name": "stderr",
     "output_type": "stream",
     "text": [
      "\"2022-09-01 02:19:20,657\",root,example_04,line 12,INFO,\"This INFO message will display.\"\n",
      "\"2022-09-01 02:19:20,657\",root,example_04,line 13,DEBUG,\"We will not see this because DEBUG is lower than the root level INFO.\"\n",
      "\"2022-09-01 02:19:20,658\",__main__,example_04,line 16,DEBUG,\"The __main__ logger is set to a level of DEBUG, so this message displays.\"\n",
      "\"2022-09-01 02:19:20,659\",__main__,example_04,line 17,INFO,\"Note the __main__ logger uses the format from root.\"\n"
     ]
    }
   ],
   "source": [
    "example_04()"
   ]
  },
  {
   "cell_type": "code",
   "execution_count": null,
   "metadata": {},
   "outputs": [],
   "source": [
    "#|export\n",
    "\n",
    "def example_05() -> None:\n",
    "    '''\n",
    "    Example 05\n",
    "    Log to a file with print()\n",
    "    '''\n",
    "\n",
    "\n",
    "    with open(file='example_print.log', mode='a') as file:\n",
    "        print('This is an example of writing to a logfile with print.', file=file)"
   ]
  },
  {
   "cell_type": "code",
   "execution_count": null,
   "metadata": {},
   "outputs": [],
   "source": [
    "example_05()\n"
   ]
  },
  {
   "cell_type": "code",
   "execution_count": null,
   "metadata": {},
   "outputs": [],
   "source": [
    "#|export\n",
    "\n",
    "def example_06_get_logger(level:int=logging.INFO) -> None:\n",
    "    '''\n",
    "    Example 06\n",
    "    Customize our logger with a file handler and a formatter.\n",
    "    '''\n",
    "    logger =  logging.getLogger(__name__)\n",
    "    logger.handlers.clear()\n",
    "    logger.propagate = False\n",
    "    return logger\n",
    "    \n",
    "def example_06_configure_handler(\n",
    "    filename:str=None, \n",
    "    format:logging.Formatter=SIMPLE_FORMAT, \n",
    "    level:int=logging.INFO) -> logging.Handler:\n",
    "    \n",
    "    if filename is not None:\n",
    "        handler = logging.FileHandler(filename=filename, mode='a')\n",
    "        handler.setFormatter(fmt=BETTER_FORMAT)\n",
    "        handler.setLevel(level)\n",
    "    else:\n",
    "        handler = None\n",
    "    return handler\n",
    "\n",
    "def example_06():\n",
    "    '''\n",
    "    Example 06\n",
    "    Create and customize a file logger with a logging.Handler that\n",
    "    sends log messages to a file and add a custom formatter\n",
    "    '''\n",
    "    FILENAME='logs/example_06.log'\n",
    "\n",
    "    logger = example_06_get_logger(level=logging.INFO) # the screen handler won't show debug messages\n",
    "\n",
    "    logger.addHandler(\n",
    "        example_06_configure_handler(format=BETTER_FORMAT, \n",
    "                                     filename=FILENAME, \n",
    "                                     level=logging.DEBUG)) # the file handler WILL show debug messages.\n",
    "\n",
    "    logger.debug(f\"Debug messages go to the file {FILENAME}\")\n"
   ]
  },
  {
   "cell_type": "code",
   "execution_count": null,
   "metadata": {},
   "outputs": [],
   "source": [
    "example_06()"
   ]
  },
  {
   "cell_type": "code",
   "execution_count": null,
   "metadata": {},
   "outputs": [],
   "source": [
    "#|export\n",
    "'''\n",
    "Example 07\n",
    "A logger that sends debug messages to the screen and info messages to a file\n",
    "'''\n",
    "\n",
    "def example_07_get_logger() -> logging.Logger:\n",
    "    logger = logging.getLogger(__name__)\n",
    "    logger.setLevel(logging.DEBUG)\n",
    "    logger.propagate = False\n",
    "    return logger\n",
    "\n",
    "def example_07():\n",
    "    FILENAME='logs/example_07.log'\n",
    "    logger = example_07_get_logger()\n",
    "    logger.handlers.clear()\n",
    "    logger.addHandler(SimpleScreenHandler())\n",
    "    logger.addHandler(SimpleFileHandler(filename='logs/example_07.log'))\n",
    "\n",
    "    logger.debug('debug messages just go to the screen.  The screen format is simply the message.')\n",
    "    logger.info(\"Info messages go to screen and file. The file format has more information.\")\n",
    "\n"
   ]
  },
  {
   "cell_type": "code",
   "execution_count": null,
   "metadata": {},
   "outputs": [
    {
     "ename": "NameError",
     "evalue": "name 'SimpleScreenHandler' is not defined",
     "output_type": "error",
     "traceback": [
      "\u001b[0;31m---------------------------------------------------------------------------\u001b[0m",
      "\u001b[0;31mNameError\u001b[0m                                 Traceback (most recent call last)",
      "Input \u001b[0;32mIn [17]\u001b[0m, in \u001b[0;36m<cell line: 1>\u001b[0;34m()\u001b[0m\n\u001b[0;32m----> 1\u001b[0m \u001b[43mexample_07\u001b[49m\u001b[43m(\u001b[49m\u001b[43m)\u001b[49m\n",
      "Input \u001b[0;32mIn [16]\u001b[0m, in \u001b[0;36mexample_07\u001b[0;34m()\u001b[0m\n\u001b[1;32m     15\u001b[0m logger \u001b[38;5;241m=\u001b[39m example_07_get_logger()\n\u001b[1;32m     16\u001b[0m logger\u001b[38;5;241m.\u001b[39mhandlers\u001b[38;5;241m.\u001b[39mclear()\n\u001b[0;32m---> 17\u001b[0m logger\u001b[38;5;241m.\u001b[39maddHandler(\u001b[43mSimpleScreenHandler\u001b[49m())\n\u001b[1;32m     18\u001b[0m logger\u001b[38;5;241m.\u001b[39maddHandler(SimpleFileHandler(filename\u001b[38;5;241m=\u001b[39m\u001b[38;5;124m'\u001b[39m\u001b[38;5;124mlogs/example_07.log\u001b[39m\u001b[38;5;124m'\u001b[39m))\n\u001b[1;32m     20\u001b[0m logger\u001b[38;5;241m.\u001b[39mdebug(\u001b[38;5;124m'\u001b[39m\u001b[38;5;124mdebug messages just go to the screen.  The screen format is simply the message.\u001b[39m\u001b[38;5;124m'\u001b[39m)\n",
      "\u001b[0;31mNameError\u001b[0m: name 'SimpleScreenHandler' is not defined"
     ]
    }
   ],
   "source": [
    "example_07()"
   ]
  },
  {
   "cell_type": "code",
   "execution_count": null,
   "metadata": {},
   "outputs": [],
   "source": [
    "import pandas as pd\n",
    "logrows = pd.read_csv(\n",
    "'logs/example_07.log', \n",
    "names=['Date', 'Name', 'Function Name', 'Line Number', 'Level', 'Message'])\n",
    "logrows.tail()"
   ]
  },
  {
   "cell_type": "code",
   "execution_count": null,
   "metadata": {},
   "outputs": [],
   "source": [
    "#|export\n",
    "\n",
    "def example_08() -> None:\n",
    "    '''\n",
    "    Example 08\n",
    "    Create a tree view of the logger data structure using the python logging_tree module.\n",
    "    '''\n",
    "    import logging_tree\n",
    "    from logging_tutorial.utilities import SimpleFileHandler, SimpleScreenHandler\n",
    "\n",
    "    logger = example_07_get_logger()\n",
    "    logger.handlers.clear()\n",
    "    logger.addHandler(SimpleScreenHandler())\n",
    "    logger.addHandler(SimpleFileHandler('logs/example_08.log'))\n",
    "    logging_tree.printout()\n"
   ]
  },
  {
   "cell_type": "code",
   "execution_count": null,
   "metadata": {},
   "outputs": [],
   "source": [
    "example_08()"
   ]
  },
  {
   "cell_type": "code",
   "execution_count": null,
   "metadata": {},
   "outputs": [],
   "source": [
    "#| export\n",
    "class SimpleFileHandler(logging.FileHandler):\n",
    "    '''\n",
    "    a simple FileHandler class that uses some good defaults for the example module\n",
    "    '''\n",
    "    \n",
    "    def __init__(self, filename='logs/example.log', **kwargs):\n",
    "        # if filename is in kwargs use it, otherwise give it FILENAME\n",
    "        super().__init__(filename=filename, **kwargs)\n",
    "        self.setLevel(logging.INFO)\n",
    "        self.setFormatter(fmt=BETTER_FORMAT)\n",
    "        \n",
    "class SimpleScreenHandler(logging.StreamHandler):\n",
    "    '''\n",
    "    a simple StreamHandler class with good defaults that sends text to stdout\n",
    "    '''\n",
    "    import sys\n",
    "    def __init__(self,stream=sys.stdout,**kwargs):\n",
    "        super().__init__(stream, **kwargs)\n",
    "        self.setLevel(logging.DEBUG)\n",
    "        self.setFormatter(fmt=SIMPLE_FORMAT)"
   ]
  },
  {
   "cell_type": "code",
   "execution_count": null,
   "metadata": {},
   "outputs": [],
   "source": [
    "#| export \n",
    "\n",
    "'''\n",
    "Example 09\n",
    "Configure logging to send email via a gmail account.\n",
    "'''\n",
    "\n",
    "SUBJECT='Alert'\n",
    "\n",
    "class SimpleGMailHandler(SMTPHandler):\n",
    "\n",
    "    def __init__(self, **kwargs):\n",
    "        \n",
    "        import os\n",
    "        kwargs.setdefault('mailhost', ('smtp.gmail.com',587))\n",
    "        try: \n",
    "            fromaddr = kwargs.setdefault('fromaddr', os.environ['gmail_app_sender'])\n",
    "            kwargs.setdefault('credentials', (fromaddr, os.environ['gmail_app_pass']))\n",
    "        except Exception as e:\n",
    "            logging.ERROR(\"You haven't set the gmail credentials.\")\n",
    "            raise e\n",
    "        kwargs.setdefault('toaddrs', [fromaddr])\n",
    "        kwargs.setdefault('subject',f'ALERT from {__name__}')\n",
    "        kwargs.setdefault('secure',())\n",
    "\n",
    "        super().__init__(**kwargs)\n",
    "\n",
    "        self.setFormatter(fmt=BETTER_FORMAT)\n",
    "        self.setLevel(logging.ERROR)\n",
    "\n",
    "def example_09():\n",
    "    '''\n",
    "    Test a logger with a simple SMTP handler.\n",
    "    '''\n",
    "    logger = logging.getLogger(__name__)\n",
    "    logger.handlers = []\n",
    "    logger.addHandler(SimpleGMailHandler())\n",
    "    logger.error('''Simulated alert. There is no emergency.''')"
   ]
  },
  {
   "cell_type": "code",
   "execution_count": null,
   "metadata": {},
   "outputs": [],
   "source": [
    "example_09()"
   ]
  },
  {
   "cell_type": "code",
   "execution_count": null,
   "metadata": {},
   "outputs": [],
   "source": [
    "#| export\n",
    "\"\"\"\n",
    " Copyright 2022 \"Holistic Mathematics Agency\".\n",
    " SPDX-License-Identifier: Apache-2.0\n",
    "\"\"\"\n",
    "\n",
    "\n",
    "\n",
    "'''\n",
    "Example 10\n",
    "Using time module to see which logging handlers take a long time.\n",
    "'''\n",
    "\n",
    "import logging\n",
    "from time import perf_counter\n",
    "import sys\n",
    "\n",
    "\n",
    "def time_logger(logger: logging.Logger, level:int, message:str) -> float:\n",
    "    '''\n",
    "    time_logger\n",
    "    measures the time taken to log a message using perf_counter\n",
    "    '''\n",
    "    tic = perf_counter()\n",
    "    logger.log(level, message)\n",
    "    toc = perf_counter()\n",
    "    return toc-tic\n",
    "\n",
    "def example_10():\n",
    "    '''\n",
    "    Example 10\n",
    "    Test the time required to log to STDOUT, a file, and email.\n",
    "    '''\n",
    "    \n",
    "    file_logger = logging.getLogger('File')\n",
    "    file_logger.setLevel(logging.INFO)\n",
    "    file_logger.addHandler(SimpleFileHandler())\n",
    "    smtp_logger = logging.getLogger('SMTP')\n",
    "    smtp_logger.setLevel(logging.ERROR)\n",
    "    smtp_logger.addHandler(SimpleGMailHandler())\n",
    "\n",
    "    # Get time for each type of logging handler\n",
    "\n",
    "    stream_time = time_logger(logging.root, logging.DEBUG, 'Stream to stdout')\n",
    "    file_time = time_logger(file_logger, logging.INFO, 'File logger.')\n",
    "    smtp_time = time_logger(smtp_logger, logging.ERROR, 'SMTP logger.')\n",
    "\n",
    "    # print times\n",
    "\n",
    "    logging.debug(f\"stream logger {stream_time:0.4f} seconds.\")\n",
    "    logging.debug(f\"file logger   {file_time:0.4f} seconds.\")\n",
    "    logging.debug(f\"SMTP logger   {smtp_time:0.4f} seconds.\")\n"
   ]
  },
  {
   "cell_type": "code",
   "execution_count": null,
   "metadata": {},
   "outputs": [],
   "source": [
    "example_10()"
   ]
  },
  {
   "cell_type": "code",
   "execution_count": null,
   "metadata": {},
   "outputs": [],
   "source": []
  },
  {
   "cell_type": "code",
   "execution_count": null,
   "metadata": {},
   "outputs": [],
   "source": []
  }
 ],
 "metadata": {
  "kernelspec": {
   "display_name": "Python [conda env:nbdev]",
   "language": "python",
   "name": "conda-env-nbdev-py"
  }
 },
 "nbformat": 4,
 "nbformat_minor": 4
}
