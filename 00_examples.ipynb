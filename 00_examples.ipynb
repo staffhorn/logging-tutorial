{
 "cells": [
  {
   "cell_type": "code",
   "execution_count": null,
   "metadata": {},
   "outputs": [],
   "source": [
    "#| default_exp examples"
   ]
  },
  {
   "cell_type": "markdown",
   "metadata": {},
   "source": [
    "# examples\n",
    "\n",
    "> Logging example functions."
   ]
  },
  {
   "cell_type": "code",
   "execution_count": null,
   "metadata": {},
   "outputs": [],
   "source": [
    "#|hide\n",
    "from nbdev.showdoc import *\n"
   ]
  },
  {
   "cell_type": "code",
   "execution_count": null,
   "metadata": {},
   "outputs": [],
   "source": [
    "#|export\n",
    "import logging\n",
    "SIMPLE_FORMAT = logging.Formatter('\"%(message)s\"')\n",
    "BETTER_FORMAT = logging.Formatter('\"%(asctime)s\",%(name)s,%(funcName)s,%(levelname)s,\"%(message)s\"')\n",
    "logging.basicConfig(\n",
    "    format='\"%(message)s\"',\n",
    "    level=logging.INFO)\n"
   ]
  },
  {
   "cell_type": "code",
   "execution_count": null,
   "metadata": {},
   "outputs": [],
   "source": [
    "#|export\n",
    "def example_01() -> None:\n",
    "    '''\n",
    "    Example 01\n",
    "    Print debugging to the screen using print()\n",
    "    '''\n",
    "    print('This debug message uses print.')\n",
    "\n"
   ]
  },
  {
   "cell_type": "code",
   "execution_count": null,
   "metadata": {},
   "outputs": [
    {
     "name": "stdout",
     "output_type": "stream",
     "text": [
      "This debug message uses print.\n"
     ]
    }
   ],
   "source": [
    "example_01()"
   ]
  },
  {
   "cell_type": "markdown",
   "metadata": {},
   "source": [
    "The next example uses logging instead of print(). \n",
    "Note that this is almost as simple as print().  In the following examples, we'll see why logging is better than print!"
   ]
  },
  {
   "cell_type": "code",
   "execution_count": null,
   "metadata": {},
   "outputs": [],
   "source": [
    "#|export\n",
    "\n",
    "def example_02() -> None:\n",
    "    '''\n",
    "    Example 02\n",
    "    Log to the screen with the root logger.\n",
    "\n",
    "    '''\n",
    "    \n",
    "    rootlogger = logging.getLogger()\n",
    "    old_level = rootlogger.getEffectiveLevel()\n",
    "    rootlogger.setLevel(level=logging.DEBUG)\n",
    "    logging.debug('This debug message uses the root logger.')\n",
    "    logging.getLogger().setLevel(old_level)\n",
    "\n",
    "\n",
    "\n"
   ]
  },
  {
   "cell_type": "code",
   "execution_count": null,
   "metadata": {},
   "outputs": [
    {
     "name": "stderr",
     "output_type": "stream",
     "text": [
      "\"This debug message uses the root logger.\"\n"
     ]
    }
   ],
   "source": [
    "example_02()"
   ]
  },
  {
   "cell_type": "markdown",
   "metadata": {},
   "source": [
    "We can get the root logger from anywhere in our application with logging.getLogger()\n",
    "We already configured the root logger in example_02, but we can modify its behavior here.\n",
    "This illustrates two handy things about logging:\n",
    "\n",
    "- logging provides access to the loggers from anywhere, so the developer does not have to search the code.\n",
    "- We can change the level of messages to suppress debug messages."
   ]
  },
  {
   "cell_type": "code",
   "execution_count": null,
   "metadata": {},
   "outputs": [],
   "source": [
    "#|export\n",
    "def example_03() -> None:\n",
    "    '''\n",
    "    Example 03\n",
    "    Add formatting to the root logger.\n",
    "    '''\n",
    "    \n",
    "    rootlogger = logging.getLogger()\n",
    "    rootlogger.handlers[0].setFormatter(BETTER_FORMAT)\n",
    "    \n",
    "    logging.info('This uses the root logger with a custom format, adding context information to each message.')\n",
    "    \n"
   ]
  },
  {
   "cell_type": "code",
   "execution_count": null,
   "metadata": {},
   "outputs": [
    {
     "name": "stderr",
     "output_type": "stream",
     "text": [
      "\"2022-08-17 10:11:46,132\",root,example_03,INFO,\"This uses the root logger with a custom format, adding context information to each message.\"\n"
     ]
    }
   ],
   "source": [
    "example_03()"
   ]
  },
  {
   "cell_type": "code",
   "execution_count": null,
   "metadata": {},
   "outputs": [],
   "source": [
    "#|export\n",
    "\n",
    "def example_04() -> None:\n",
    "    '''\n",
    "    Example 04\n",
    "    Use a named logger that has unique properties from the root logger.\n",
    "    '''\n",
    "\n",
    "    # Let's create a custom logger, my_logger.\n",
    "    my_logger = logging.getLogger(__name__)\n",
    "    my_logger.setLevel(logging.DEBUG)\n",
    "    logging.info('This INFO message will display.')\n",
    "    logging.debug('We will not see this because DEBUG is lower than the root level INFO.')\n",
    "\n",
    "    my_logger = logging.getLogger(__name__)\n",
    "    my_logger.debug('The __main__ logger is set to a level of DEBUG, so this message displays.')\n",
    "    my_logger.info('Note the __main__ logger uses the format from root.')\n",
    "    my_logger.handlers = []\n",
    "\n"
   ]
  },
  {
   "cell_type": "code",
   "execution_count": null,
   "metadata": {},
   "outputs": [
    {
     "name": "stderr",
     "output_type": "stream",
     "text": [
      "\"2022-08-17 10:11:46,168\",root,example_04,INFO,\"This INFO message will display.\"\n",
      "\"2022-08-17 10:11:46,168\",__main__,example_04,DEBUG,\"The __main__ logger is set to a level of DEBUG, so this message displays.\"\n",
      "\"2022-08-17 10:11:46,168\",__main__,example_04,INFO,\"Note the __main__ logger uses the format from root.\"\n"
     ]
    }
   ],
   "source": [
    "example_04()"
   ]
  },
  {
   "cell_type": "code",
   "execution_count": null,
   "metadata": {},
   "outputs": [],
   "source": [
    "#|export\n",
    "\n",
    "def example_05() -> None:\n",
    "    '''\n",
    "    Example 05\n",
    "    Log to a file with print()\n",
    "    '''\n",
    "    import sys\n",
    "\n",
    "    with open(file='example_print.log', mode='a') as file:\n",
    "        print('This is an example of writing to a logfile with print.', file=file)"
   ]
  },
  {
   "cell_type": "code",
   "execution_count": null,
   "metadata": {},
   "outputs": [],
   "source": [
    "example_05()\n"
   ]
  },
  {
   "cell_type": "code",
   "execution_count": null,
   "metadata": {},
   "outputs": [],
   "source": [
    "#|export\n",
    "\n",
    "def example_06_get_logger(level:int=logging.INFO) -> None:\n",
    "    '''\n",
    "    Example 06\n",
    "    Customize our logger with a file handler and a formatter.\n",
    "    '''\n",
    "    logger =  logging.getLogger(__name__)\n",
    "    logger.handlers.clear()\n",
    "    logger.propagate = False\n",
    "    return logger\n",
    "    \n",
    "def example_06_configure_handler(\n",
    "    filename:str=None, \n",
    "    format:logging.Formatter=SIMPLE_FORMAT, \n",
    "    level:int=logging.INFO) -> logging.Handler:\n",
    "    \n",
    "\n",
    "    if filename is not None:\n",
    "        handler = logging.FileHandler(filename=filename, mode='a')\n",
    "        handler.setFormatter(fmt=BETTER_FORMAT)\n",
    "        handler.setLevel(level)\n",
    "    else:\n",
    "        handler = None\n",
    "    return handler\n",
    "\n",
    "def example_06():\n",
    "    '''\n",
    "    Example 06\n",
    "    Create and customize a file logger with a logging.Handler that\n",
    "    sends log messages to a file and add a custom formatter\n",
    "    '''\n",
    "    FILENAME='logs/example_06.log'\n",
    "\n",
    "    logger = example_06_get_logger(level=logging.INFO) # the screen handler won't show debug messages\n",
    "\n",
    "    logger.addHandler(\n",
    "        example_06_configure_handler(format=BETTER_FORMAT, \n",
    "                                     filename=FILENAME, \n",
    "                                     level=logging.DEBUG)) # the file handler WILL show debug messages.\n",
    "\n",
    "    logger.debug(f\"Debug messages go to the file {FILENAME}\")\n"
   ]
  },
  {
   "cell_type": "code",
   "execution_count": null,
   "metadata": {},
   "outputs": [],
   "source": [
    "example_06()"
   ]
  },
  {
   "cell_type": "code",
   "execution_count": null,
   "metadata": {},
   "outputs": [
    {
     "name": "stdout",
     "output_type": "stream",
     "text": [
      "\"2022-08-17 10:00:11,586\",__main__,example_06,DEBUG,\"Debug messages go to the file logs/example_06.log\"\r\n",
      "\"2022-08-17 10:00:11,586\",__main__,example_06,INFO,\"Info messages go to the file logs/example_06.log and the screen.\"\r\n",
      "\"2022-08-17 10:01:21,863\",__main__,example_06,DEBUG,\"Debug messages go to the file logs/example_06.log\"\r\n",
      "\"2022-08-17 10:10:45,833\",__main__,example_06,DEBUG,\"Debug messages go to the file logs/example_06.log\"\r\n",
      "\"2022-08-17 10:11:46,245\",__main__,example_06,DEBUG,\"Debug messages go to the file logs/example_06.log\"\r\n"
     ]
    }
   ],
   "source": [
    "!cat logs/example_06.log"
   ]
  },
  {
   "cell_type": "code",
   "execution_count": null,
   "metadata": {},
   "outputs": [],
   "source": [
    "#|export\n",
    "'''\n",
    "Example 07\n",
    "A logger that sends debug messages to the screen and info messages to a file\n",
    "'''\n",
    "\n",
    "FILENAME='logs/example_07.log'\n",
    "\n",
    "def example_07_get_logger() -> logging.Logger:\n",
    "    logger =  logging.getLogger(__name__)\n",
    "    logger.setLevel(logging.DEBUG)\n",
    "    logger.propagate = False\n",
    "    return logger\n",
    "\n",
    "def example_07_configure_file_handler(filename:str=FILENAME) -> logging.Handler:\n",
    "\n",
    "    file_handler = logging.FileHandler(filename=filename, mode='a')\n",
    "    file_handler.setLevel(logging.INFO)\n",
    "    file_handler.setFormatter(BETTER_FORMAT)\n",
    "    return file_handler\n",
    "\n",
    "def example_07_configure_screen_handler() -> logging.Handler:\n",
    "    import sys\n",
    "\n",
    "    screen_handler = logging.StreamHandler(stream=sys.stdout)\n",
    "    screen_handler.setLevel(logging.DEBUG)\n",
    "    screen_handler.setFormatter(SIMPLE_FORMAT)\n",
    "\n",
    "    return screen_handler\n",
    "\n",
    "def example_07():\n",
    "    logger = example_07_get_logger()\n",
    "    logger.handlers.clear()\n",
    "    logger.addHandler(example_07_configure_screen_handler())\n",
    "    logger.addHandler(example_07_configure_file_handler())\n",
    "\n",
    "    logger.debug('debug messages just go to the screen.  The screen format is simply the message.')\n",
    "    logger.info(\"Info messages go to screen and file. The file format has more information.\")"
   ]
  },
  {
   "cell_type": "code",
   "execution_count": null,
   "metadata": {},
   "outputs": [
    {
     "name": "stdout",
     "output_type": "stream",
     "text": [
      "\"debug messages just go to the screen.  The screen format is simply the message.\"\n",
      "\"Info messages go to screen and file. The file format has more information.\"\n"
     ]
    }
   ],
   "source": [
    "example_07()"
   ]
  },
  {
   "cell_type": "code",
   "execution_count": null,
   "metadata": {},
   "outputs": [
    {
     "name": "stdout",
     "output_type": "stream",
     "text": [
      "\"2022-08-17 10:00:11,755\",__main__,example_07,INFO,\"Info messages go to screen and file. The file format has more information.\"\r\n",
      "\"2022-08-17 10:11:46,450\",__main__,example_07,INFO,\"Info messages go to screen and file. The file format has more information.\"\r\n"
     ]
    }
   ],
   "source": [
    "!cat logs/example_07.log"
   ]
  },
  {
   "cell_type": "code",
   "execution_count": null,
   "metadata": {},
   "outputs": [],
   "source": []
  }
 ],
 "metadata": {
  "kernelspec": {
   "display_name": "Python [conda env:nbdev]",
   "language": "python",
   "name": "conda-env-nbdev-py"
  }
 },
 "nbformat": 4,
 "nbformat_minor": 4
}
