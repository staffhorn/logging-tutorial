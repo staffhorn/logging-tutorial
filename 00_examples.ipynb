{
 "cells": [
  {
   "cell_type": "code",
   "execution_count": null,
   "metadata": {},
   "outputs": [],
   "source": [
    "#| default_exp examples"
   ]
  },
  {
   "cell_type": "markdown",
   "metadata": {},
   "source": [
    "# examples\n",
    "\n",
    "> API details."
   ]
  },
  {
   "cell_type": "code",
   "execution_count": null,
   "metadata": {},
   "outputs": [],
   "source": [
    "#|hide\n",
    "from nbdev.showdoc import *\n"
   ]
  },
  {
   "cell_type": "code",
   "execution_count": null,
   "metadata": {},
   "outputs": [],
   "source": [
    "#|export\n",
    "import logging\n",
    "logging.basicConfig(\n",
    "    format='\"%(asctime)s\",%(name)s,%(funcName)s,%(levelname)s,\"%(message)s\"',\n",
    "    level=logging.INFO)\n"
   ]
  },
  {
   "cell_type": "code",
   "execution_count": null,
   "metadata": {},
   "outputs": [],
   "source": [
    "#|export\n",
    "def example_01() -> None:\n",
    "    '''\n",
    "    Example 01\n",
    "    Print debugging to the screen using print()\n",
    "    '''\n",
    "    print('This debug message uses print.')\n",
    "\n"
   ]
  },
  {
   "cell_type": "code",
   "execution_count": null,
   "metadata": {},
   "outputs": [
    {
     "name": "stdout",
     "output_type": "stream",
     "text": [
      "This debug message uses print.\n"
     ]
    }
   ],
   "source": [
    "example_01()"
   ]
  },
  {
   "cell_type": "markdown",
   "metadata": {},
   "source": [
    "The next example uses logging instead of print(). \n",
    "Note that this is almost as simple as print().  In the following examples, we'll see why logging is better than print!"
   ]
  },
  {
   "cell_type": "code",
   "execution_count": null,
   "metadata": {},
   "outputs": [],
   "source": [
    "#|export\n",
    "\n",
    "def example_02() -> None:\n",
    "    '''\n",
    "    Example 02\n",
    "    Log to the screen with the root logger.\n",
    "\n",
    "    '''\n",
    "    \n",
    "    rootlogger = logging.getLogger()\n",
    "    old_level = rootlogger.getEffectiveLevel()\n",
    "    rootlogger.setLevel(level=logging.DEBUG)\n",
    "    logging.debug('This debug message uses the root logger.')\n",
    "    logging.getLogger().setLevel(old_level)\n",
    "\n",
    "\n",
    "\n"
   ]
  },
  {
   "cell_type": "code",
   "execution_count": null,
   "metadata": {},
   "outputs": [
    {
     "name": "stderr",
     "output_type": "stream",
     "text": [
      "\"2022-08-16 16:03:50,512\",root,DEBUG,\"This debug message uses the root logger.\"\n"
     ]
    }
   ],
   "source": [
    "example_02()"
   ]
  },
  {
   "cell_type": "markdown",
   "metadata": {},
   "source": [
    "We can get the root logger from anywhere in our application with logging.getLogger()\n",
    "We already configured the root logger in example_02, but we can modify its behavior here.\n",
    "This illustrates two handy things about logging:\n",
    "\n",
    "- logging provides access to the loggers from anywhere, so the developer does not have to search the code.\n",
    "- We can change the level of messages to suppress debug messages."
   ]
  },
  {
   "cell_type": "code",
   "execution_count": null,
   "metadata": {},
   "outputs": [],
   "source": [
    "#|export\n",
    "def example_03() -> None:\n",
    "    '''\n",
    "    Example 03\n",
    "    Add formatting to the root logger a custom format string.\n",
    "    '''\n",
    "    \n",
    "    rootlogger = logging.getLogger()\n",
    "    my_format = logging.Formatter('\"%(asctime)s\",%(name)s,%(levelname)s,\"%(message)s\"')\n",
    "    rootlogger.handlers[0].setFormatter(my_format)\n",
    "    \n",
    "    logging.info('This uses the root logger with a custom format, adding context information to each message.')\n",
    "    \n"
   ]
  },
  {
   "cell_type": "code",
   "execution_count": null,
   "metadata": {},
   "outputs": [
    {
     "name": "stderr",
     "output_type": "stream",
     "text": [
      "\"2022-08-16 16:03:50,554\",root,INFO,\"This uses the root logger with a custom format, adding context information to each message.\"\n"
     ]
    }
   ],
   "source": [
    "example_03()"
   ]
  },
  {
   "cell_type": "code",
   "execution_count": null,
   "metadata": {},
   "outputs": [],
   "source": [
    "#|export\n",
    "\n",
    "def example_04():\n",
    "    '''\n",
    "    Example 04\n",
    "    Use a named logger that has unique properties from the root logger.\n",
    "    '''\n",
    "\n",
    "    # Let's create a custom logger, my_logger.\n",
    "    my_logger = logging.getLogger(__name__)\n",
    "    my_logger.setLevel(logging.DEBUG)\n",
    "    logging.info('This INFO message sent to the root logger will display.')\n",
    "    logging.debug('We will not see this because DEBUG is lower than the root level INFO.')\n",
    "\n",
    "    my_logger = logging.getLogger(__name__)\n",
    "    my_logger.debug('The __main__ logger is set to a level of DEBUG, so this message displays.')\n",
    "    my_logger.info('Note the __main__ logger uses the format from root.')\n",
    "\n"
   ]
  },
  {
   "cell_type": "code",
   "execution_count": null,
   "metadata": {},
   "outputs": [
    {
     "name": "stderr",
     "output_type": "stream",
     "text": [
      "\"2022-08-16 16:03:50,590\",root,INFO,\"This INFO message sent to the root logger will display.\"\n",
      "\"2022-08-16 16:03:50,591\",__main__,DEBUG,\"The __main__ logger is set to a level of DEBUG, so this message displays.\"\n",
      "\"2022-08-16 16:03:50,591\",__main__,INFO,\"Note the __main__ logger uses the format from root.\"\n"
     ]
    }
   ],
   "source": [
    "example_04()"
   ]
  },
  {
   "cell_type": "code",
   "execution_count": null,
   "metadata": {},
   "outputs": [],
   "source": [
    "#|export\n",
    "\n",
    "def example_05():\n",
    "    '''\n",
    "    Example 05\n",
    "    Log to a file with print()\n",
    "    '''\n",
    "    import sys\n",
    "\n",
    "    with open(file='example_print.log', mode='a') as file:\n",
    "        print('This is an example of writing to a logfile with print.', file=file)"
   ]
  },
  {
   "cell_type": "code",
   "execution_count": null,
   "metadata": {},
   "outputs": [],
   "source": [
    "example_05()\n"
   ]
  },
  {
   "cell_type": "code",
   "execution_count": null,
   "metadata": {},
   "outputs": [],
   "source": [
    "#|export\n",
    "\n",
    "def example_06_get_logger(level=logging.INFO):\n",
    "    '''\n",
    "    Example 06\n",
    "    Customize our logger with a file handler and a formatter.\n",
    "    '''\n",
    "    logger =  logging.getLogger(__name__)\n",
    "    logger.setLevel(level)\n",
    "    return logger\n",
    "    \n",
    "def example_06_configure_handler(filename=None, format=None, level=logging.INFO) -> logging.Handler:\n",
    "    '''\n",
    "    We create and customize a file logger with a logging.Handler that\n",
    "    send log messages to a file.\n",
    "     - add a custom formatter\n",
    "    '''\n",
    "    if filename is not None:\n",
    "        handler = logging.FileHandler(filename=filename, mode='a')\n",
    "        handler.setFormatter(fmt=logging.Formatter(format))\n",
    "    else:\n",
    "        handler = None\n",
    "    return handler\n",
    "\n",
    "def example_06():\n",
    "    FORMAT = '\"%(asctime)s\",%(module)s,%(name)s,%(levelname)s,\"%(message)s\"'\n",
    "    FILENAME='example_06.log'\n",
    "\n",
    "    logger = example_06_get_logger(level=logging.INFO) # the screen handler won't show debug messages\n",
    "\n",
    "    logger.addHandler(\n",
    "        example_06_configure_handler(format=FORMAT, \n",
    "                                     filename=FILENAME, \n",
    "                                     level=logging.DEBUG)) # the file handler WILL show debug messages.\n",
    "\n",
    "    logger.debug(f\"Debug messages go to the file {FILENAME}\")"
   ]
  },
  {
   "cell_type": "code",
   "execution_count": null,
   "metadata": {},
   "outputs": [],
   "source": [
    "example_06()"
   ]
  },
  {
   "cell_type": "code",
   "execution_count": null,
   "metadata": {},
   "outputs": [],
   "source": [
    "!cat example_06.log"
   ]
  },
  {
   "cell_type": "code",
   "execution_count": null,
   "metadata": {},
   "outputs": [],
   "source": [
    "#|export\n",
    "'''\n",
    "Example 07\n",
    "A logger that sends debug messages to the screen and info messages to a file\n",
    "'''\n",
    "\n",
    "FORMAT = '\"%(asctime)s\",%(module)s,%(funcName)s, %(name)s,%(levelname)s,\"%(message)s\"'\n",
    "FILENAME='example_07.log'\n",
    "CUSTOM_LEVEL = logging.DEBUG\n",
    "\n",
    "formatter = logging.Formatter(fmt=FORMAT)\n",
    "\n",
    "def example_07_get_logger() -> logging.getLogger:\n",
    "    logger =  logging.getLogger(__name__)\n",
    "    logger.setLevel(logging.DEBUG)\n",
    "    return logger\n",
    "\n",
    "def example_07_configure_file_handler(filename=FILENAME) -> logging.Handler:\n",
    "\n",
    "    file_handler = logging.FileHandler(filename=FILENAME, mode='a')\n",
    "    file_handler.setLevel(logging.INFO)\n",
    "    file_handler.setFormatter(formatter)\n",
    "    return file_handler\n",
    "\n",
    "def example_07_configure_screen_handler() -> logging.Handler:\n",
    "    import sys\n",
    "\n",
    "    screen_handler = logging.StreamHandler(stream=sys.stdout)\n",
    "    screen_handler.setLevel(CUSTOM_LEVEL)\n",
    "    screen_handler.setFormatter(formatter)\n",
    "\n",
    "    return screen_handler\n",
    "\n",
    "def example_07():\n",
    "    logger = example_07_get_logger()\n",
    "    logger.addHandler(example_07_configure_screen_handler())\n",
    "    logger.addHandler(example_07_configure_file_handler())\n",
    "\n",
    "    logger.debug('debug')\n",
    "    logger.info(\"Info messages go to screen and file\")"
   ]
  },
  {
   "cell_type": "code",
   "execution_count": null,
   "metadata": {},
   "outputs": [
    {
     "name": "stdout",
     "output_type": "stream",
     "text": [
      "\"2022-08-16 16:03:50,834\",3089691349,example_07, __main__,DEBUG,\"debug\"\n"
     ]
    },
    {
     "name": "stderr",
     "output_type": "stream",
     "text": [
      "\"2022-08-16 16:03:50,834\",__main__,DEBUG,\"debug\"\n"
     ]
    },
    {
     "name": "stdout",
     "output_type": "stream",
     "text": [
      "\"2022-08-16 16:03:50,834\",3089691349,example_07, __main__,INFO,\"Info messages go to screen and file\"\n"
     ]
    },
    {
     "name": "stderr",
     "output_type": "stream",
     "text": [
      "\"2022-08-16 16:03:50,834\",__main__,INFO,\"Info messages go to screen and file\"\n"
     ]
    }
   ],
   "source": [
    "example_07()"
   ]
  },
  {
   "cell_type": "code",
   "execution_count": null,
   "metadata": {},
   "outputs": [],
   "source": []
  }
 ],
 "metadata": {
  "kernelspec": {
   "display_name": "Python [conda env:nbdev]",
   "language": "python",
   "name": "conda-env-nbdev-py"
  }
 },
 "nbformat": 4,
 "nbformat_minor": 4
}
